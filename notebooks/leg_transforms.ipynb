{
 "metadata": {
  "name": ""
 },
 "nbformat": 3,
 "nbformat_minor": 0,
 "worksheets": [
  {
   "cells": [
    {
     "cell_type": "code",
     "collapsed": false,
     "input": [
      "from kinect_skeleton_publisher.joint_transformations import *\n",
      "from sympy import *"
     ],
     "language": "python",
     "metadata": {},
     "outputs": [],
     "prompt_number": 1
    },
    {
     "cell_type": "code",
     "collapsed": false,
     "input": [
      "t1, t2, t3, t4, t5, t6 = symbols('t1 t2 t3 t4 t5 t6')\n",
      "lt, ls, lf = symbols('lt ls lf')"
     ],
     "language": "python",
     "metadata": {},
     "outputs": [],
     "prompt_number": 2
    },
    {
     "cell_type": "code",
     "collapsed": false,
     "input": [
      "HTH = rotation_y(pi/2)*spherical_joint(t1,t2,t3)\n",
      "HTH"
     ],
     "language": "python",
     "metadata": {},
     "outputs": [
      {
       "metadata": {},
       "output_type": "pyout",
       "prompt_number": 8,
       "text": [
        "Matrix([\n",
        "[        -sin(t2),                           sin(t3)*cos(t2),                            cos(t2)*cos(t3), 0],\n",
        "[ sin(t1)*cos(t2), sin(t1)*sin(t2)*sin(t3) + cos(t1)*cos(t3),  sin(t1)*sin(t2)*cos(t3) - sin(t3)*cos(t1), 0],\n",
        "[-cos(t1)*cos(t2), sin(t1)*cos(t3) - sin(t2)*sin(t3)*cos(t1), -sin(t1)*sin(t3) - sin(t2)*cos(t1)*cos(t3), 0],\n",
        "[               0,                                         0,                                          0, 1]])"
       ]
      }
     ],
     "prompt_number": 8
    },
    {
     "cell_type": "code",
     "collapsed": false,
     "input": [
      "HTK = translation([lt,0,0])*rotation_x(-pi/2)*rotation_z(t4)\n",
      "HTK"
     ],
     "language": "python",
     "metadata": {},
     "outputs": [
      {
       "metadata": {},
       "output_type": "pyout",
       "prompt_number": 9,
       "text": [
        "Matrix([\n",
        "[ cos(t4), -sin(t4), 0, lt],\n",
        "[       0,        0, 1,  0],\n",
        "[-sin(t4), -cos(t4), 0,  0],\n",
        "[       0,        0, 0,  1]])"
       ]
      }
     ],
     "prompt_number": 9
    },
    {
     "cell_type": "code",
     "collapsed": false,
     "input": [
      "KTA = translation([ls,0,0])*rotation_x(-pi/2)*rotation_z(pi/2)*rotation_z(t5)*rotation_y(t6)\n",
      "KTA"
     ],
     "language": "python",
     "metadata": {},
     "outputs": [
      {
       "metadata": {},
       "output_type": "pyout",
       "prompt_number": 10,
       "text": [
        "Matrix([\n",
        "[-sin(t5)*cos(t6), -cos(t5), -sin(t5)*sin(t6), ls],\n",
        "[        -sin(t6),        0,          cos(t6),  0],\n",
        "[-cos(t5)*cos(t6),  sin(t5), -sin(t6)*cos(t5),  0],\n",
        "[               0,        0,                0,  1]])"
       ]
      }
     ],
     "prompt_number": 10
    },
    {
     "cell_type": "code",
     "collapsed": false,
     "input": [],
     "language": "python",
     "metadata": {},
     "outputs": []
    }
   ],
   "metadata": {}
  }
 ]
}