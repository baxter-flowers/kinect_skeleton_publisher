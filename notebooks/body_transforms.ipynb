{
 "metadata": {
  "name": ""
 },
 "nbformat": 3,
 "nbformat_minor": 0,
 "worksheets": [
  {
   "cells": [
    {
     "cell_type": "code",
     "collapsed": false,
     "input": [
      "from kinect_skeleton_publisher.joint_transformations import *\n",
      "from sympy import *"
     ],
     "language": "python",
     "metadata": {},
     "outputs": [],
     "prompt_number": 1
    },
    {
     "cell_type": "code",
     "collapsed": false,
     "input": [
      "t1, t2, t3, t4, t5, t6 = symbols('t1 t2 t3 t4 t5 t6')\n",
      "lh, lt, lw = symbols('lh lt lw')"
     ],
     "language": "python",
     "metadata": {},
     "outputs": [],
     "prompt_number": 3
    },
    {
     "cell_type": "code",
     "collapsed": false,
     "input": [
      "HcTS = translation([0,0,lw])*spherical_joint(t1,t2,t3,order='xyz')\n",
      "HcTS"
     ],
     "language": "python",
     "metadata": {},
     "outputs": [
      {
       "metadata": {},
       "output_type": "pyout",
       "prompt_number": 8,
       "text": [
        "Matrix([\n",
        "[                          cos(t2)*cos(t3),                           -sin(t3)*cos(t2),          sin(t2),  0],\n",
        "[sin(t1)*sin(t2)*cos(t3) + sin(t3)*cos(t1), -sin(t1)*sin(t2)*sin(t3) + cos(t1)*cos(t3), -sin(t1)*cos(t2),  0],\n",
        "[sin(t1)*sin(t3) - sin(t2)*cos(t1)*cos(t3),  sin(t1)*cos(t3) + sin(t2)*sin(t3)*cos(t1),  cos(t1)*cos(t2), lw],\n",
        "[                                        0,                                          0,                0,  1]])"
       ]
      }
     ],
     "prompt_number": 8
    },
    {
     "cell_type": "code",
     "collapsed": false,
     "input": [
      "STN = translation([0,0,lt])*spherical_joint(t4,t5,t6,order='xyz')\n",
      "STN"
     ],
     "language": "python",
     "metadata": {},
     "outputs": [
      {
       "metadata": {},
       "output_type": "pyout",
       "prompt_number": 9,
       "text": [
        "Matrix([\n",
        "[                          cos(t5)*cos(t6),                           -sin(t6)*cos(t5),          sin(t5),  0],\n",
        "[sin(t4)*sin(t5)*cos(t6) + sin(t6)*cos(t4), -sin(t4)*sin(t5)*sin(t6) + cos(t4)*cos(t6), -sin(t4)*cos(t5),  0],\n",
        "[sin(t4)*sin(t6) - sin(t5)*cos(t4)*cos(t6),  sin(t4)*cos(t6) + sin(t5)*sin(t6)*cos(t4),  cos(t4)*cos(t5), lt],\n",
        "[                                        0,                                          0,                0,  1]])"
       ]
      }
     ],
     "prompt_number": 9
    },
    {
     "cell_type": "code",
     "collapsed": false,
     "input": [
      "Symbol('t1')"
     ],
     "language": "python",
     "metadata": {},
     "outputs": [
      {
       "metadata": {},
       "output_type": "pyout",
       "prompt_number": 2,
       "text": [
        "t1"
       ]
      }
     ],
     "prompt_number": 2
    },
    {
     "cell_type": "code",
     "collapsed": false,
     "input": [
      "symbol('t2')"
     ],
     "language": "python",
     "metadata": {},
     "outputs": [
      {
       "ename": "TypeError",
       "evalue": "'module' object is not callable",
       "output_type": "pyerr",
       "traceback": [
        "\u001b[0;31m---------------------------------------------------------------------------\u001b[0m\n\u001b[0;31mTypeError\u001b[0m                                 Traceback (most recent call last)",
        "\u001b[0;32m<ipython-input-3-2f8b99f0a070>\u001b[0m in \u001b[0;36m<module>\u001b[0;34m()\u001b[0m\n\u001b[0;32m----> 1\u001b[0;31m \u001b[0msymbol\u001b[0m\u001b[0;34m(\u001b[0m\u001b[0;34m't2'\u001b[0m\u001b[0;34m)\u001b[0m\u001b[0;34m\u001b[0m\u001b[0m\n\u001b[0m",
        "\u001b[0;31mTypeError\u001b[0m: 'module' object is not callable"
       ]
      }
     ],
     "prompt_number": 3
    },
    {
     "cell_type": "code",
     "collapsed": false,
     "input": [],
     "language": "python",
     "metadata": {},
     "outputs": []
    }
   ],
   "metadata": {}
  }
 ]
}