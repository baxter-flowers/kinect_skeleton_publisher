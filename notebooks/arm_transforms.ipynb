{
 "metadata": {
  "name": ""
 },
 "nbformat": 3,
 "nbformat_minor": 0,
 "worksheets": [
  {
   "cells": [
    {
     "cell_type": "code",
     "collapsed": false,
     "input": [
      "from kinect_skeleton_publisher.joint_transformations import *\n",
      "from sympy import *"
     ],
     "language": "python",
     "metadata": {},
     "outputs": [],
     "prompt_number": 1
    },
    {
     "cell_type": "code",
     "collapsed": false,
     "input": [
      "t1, t2, t3, t4, t5, t6, t7 = symbols('t1 t2 t3 t4 t5 t6 t7')\n",
      "lua, lla, lh = symbols('lua lla lh')"
     ],
     "language": "python",
     "metadata": {},
     "outputs": [],
     "prompt_number": 2
    },
    {
     "cell_type": "code",
     "collapsed": false,
     "input": [
      "ShTE = translation([lua,0,0])*rotation_z(t4)*rotation_x(t5)\n",
      "ShTE"
     ],
     "language": "python",
     "metadata": {},
     "outputs": [
      {
       "metadata": {},
       "output_type": "pyout",
       "prompt_number": 3,
       "text": [
        "Matrix([\n",
        "[cos(t4), -sin(t4)*cos(t5),  sin(t4)*sin(t5), lua],\n",
        "[sin(t4),  cos(t4)*cos(t5), -sin(t5)*cos(t4),   0],\n",
        "[      0,          sin(t5),          cos(t5),   0],\n",
        "[      0,                0,                0,   1]])"
       ]
      }
     ],
     "prompt_number": 3
    },
    {
     "cell_type": "code",
     "collapsed": false,
     "input": [
      "ETW = translation([lla,0,0])*rotation_z(t6)*rotation_y(t7)\n",
      "ETW"
     ],
     "language": "python",
     "metadata": {},
     "outputs": [
      {
       "metadata": {},
       "output_type": "pyout",
       "prompt_number": 4,
       "text": [
        "Matrix([\n",
        "[cos(t6)*cos(t7), -sin(t6), sin(t7)*cos(t6), lla],\n",
        "[sin(t6)*cos(t7),  cos(t6), sin(t6)*sin(t7),   0],\n",
        "[       -sin(t7),        0,         cos(t7),   0],\n",
        "[              0,        0,               0,   1]])"
       ]
      }
     ],
     "prompt_number": 4
    },
    {
     "cell_type": "code",
     "collapsed": false,
     "input": [
      "RSTSh = rotation_z(-pi/2)*spherical_joint(t1,t2,t3)\n",
      "RSTSh"
     ],
     "language": "python",
     "metadata": {},
     "outputs": [
      {
       "metadata": {},
       "output_type": "pyout",
       "prompt_number": 5,
       "text": [
        "Matrix([\n",
        "[ sin(t1)*cos(t2), sin(t1)*sin(t2)*sin(t3) + cos(t1)*cos(t3),  sin(t1)*sin(t2)*cos(t3) - sin(t3)*cos(t1), 0],\n",
        "[-cos(t1)*cos(t2), sin(t1)*cos(t3) - sin(t2)*sin(t3)*cos(t1), -sin(t1)*sin(t3) - sin(t2)*cos(t1)*cos(t3), 0],\n",
        "[        -sin(t2),                           sin(t3)*cos(t2),                            cos(t2)*cos(t3), 0],\n",
        "[               0,                                         0,                                          0, 1]])"
       ]
      }
     ],
     "prompt_number": 5
    },
    {
     "cell_type": "code",
     "collapsed": false,
     "input": [
      "LSTSh = rotation_z(pi/2)*spherical_joint(t1,t2,t3)\n",
      "LSTSh"
     ],
     "language": "python",
     "metadata": {},
     "outputs": [
      {
       "metadata": {},
       "output_type": "pyout",
       "prompt_number": 6,
       "text": [
        "Matrix([\n",
        "[-sin(t1)*cos(t2), -sin(t1)*sin(t2)*sin(t3) - cos(t1)*cos(t3), -sin(t1)*sin(t2)*cos(t3) + sin(t3)*cos(t1), 0],\n",
        "[ cos(t1)*cos(t2), -sin(t1)*cos(t3) + sin(t2)*sin(t3)*cos(t1),  sin(t1)*sin(t3) + sin(t2)*cos(t1)*cos(t3), 0],\n",
        "[        -sin(t2),                            sin(t3)*cos(t2),                            cos(t2)*cos(t3), 0],\n",
        "[               0,                                          0,                                          0, 1]])"
       ]
      }
     ],
     "prompt_number": 6
    },
    {
     "cell_type": "code",
     "collapsed": false,
     "input": [],
     "language": "python",
     "metadata": {},
     "outputs": []
    }
   ],
   "metadata": {}
  }
 ]
}